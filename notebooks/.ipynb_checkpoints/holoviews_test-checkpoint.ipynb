{
 "metadata": {
  "name": "",
  "signature": "sha256:e3e8f22555442f7f1b062708d569c9725d3d7d7ca7f42d82ea3d583e394ce8bd"
 },
 "nbformat": 3,
 "nbformat_minor": 0,
 "worksheets": []
}